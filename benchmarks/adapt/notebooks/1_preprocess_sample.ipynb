{
 "cells": [
  {
   "cell_type": "markdown",
   "source": [
    "This notebook assumes that the steps mentioned in the glovo-foodi-ml-dataset README have been followed, that is:\n",
    "* The glovo-foodi-ml-dataset-sample.csv has been downloaded\n",
    "* The images are already downloaded in disk by downloading the mock_dataset_ES.zip from S3"
   ],
   "metadata": {
    "collapsed": false,
    "pycharm": {
     "name": "#%% md\n"
    }
   }
  },
  {
   "cell_type": "code",
   "execution_count": 4,
   "id": "82a59b43",
   "metadata": {},
   "outputs": [],
   "source": [
    "import os\n",
    "import numpy as np\n",
    "import pandas as pd\n",
    "import shutil"
   ]
  },
  {
   "cell_type": "code",
   "execution_count": 5,
   "id": "893c02e5",
   "metadata": {},
   "outputs": [
    {
     "data": {
      "text/plain": [
       "'1.9.1+cu102'"
      ]
     },
     "execution_count": 5,
     "metadata": {},
     "output_type": "execute_result"
    }
   ],
   "source": [
    "import torch\n",
    "torch.__version__"
   ]
  },
  {
   "cell_type": "code",
   "execution_count": 6,
   "id": "fb2cd016",
   "metadata": {},
   "outputs": [],
   "source": [
    "os.chdir(\"/home/ec2-user/SageMaker/foodi-ml/\")"
   ]
  },
  {
   "cell_type": "markdown",
   "id": "964e12ca",
   "metadata": {},
   "source": [
    "# Exploration of execution\n",
    "\n",
    "Execution \n",
    "\n",
    "```{bash}\n",
    "cd /home/ec2-user/SageMaker/foodi-ml\n",
    "source activate python3\n",
    "export DATA_PATH=/home/ec2-user/SageMaker/dataset/\n",
    "python run.py options/adapt/foodi-ml/i2t.yaml\n",
    "```"
   ]
  },
  {
   "cell_type": "markdown",
   "id": "8581da20",
   "metadata": {},
   "source": [
    "# Configurations"
   ]
  },
  {
   "cell_type": "code",
   "execution_count": 7,
   "id": "04178ff6",
   "metadata": {},
   "outputs": [],
   "source": [
    "PATH_DATA = '/home/ec2-user/SageMaker/dataset/'\n",
    "PATH_FOODI = '/home/ec2-user/SageMaker/foodi-ml'\n",
    "DATASET_CSV = 'glovo-foodi-ml-dataset-sample.csv'\n",
    "\n",
    "conf = {\n",
    "    \"LOCAL_RAW_DATASET\": os.path.join(PATH_DATA, DATASET_CSV),\n",
    "    \"LOCAL_DATASET\": os.path.join(PATH_DATA, 'samples'),\n",
    "    \"LOCAL_IMAGES\": os.path.join(PATH_DATA, 'dataset'),\n",
    "    \"LOCAL_VOCAB\": os.path.join(PATH_FOODI, '.vocab_cache/foodiml_vocab.json'),\n",
    "    \"pth_dwn_samples\": '/home/ec2-user/SageMaker/dataset/',\n",
    "    \"pth_vocab\": '/home/ec2-user/SageMaker/foodi-ml/.vocab_cache/foodiml_vocab.json',\n",
    "}"
   ]
  },
  {
   "cell_type": "markdown",
   "id": "1fcc9211",
   "metadata": {},
   "source": [
    "# Read all samples"
   ]
  },
  {
   "cell_type": "code",
   "execution_count": 42,
   "id": "7ccebfaf",
   "metadata": {},
   "outputs": [],
   "source": [
    "samples = pd.read_csv(os.path.join(conf['LOCAL_RAW_DATASET']))"
   ]
  },
  {
   "cell_type": "code",
   "execution_count": 43,
   "id": "3b3e6db3",
   "metadata": {},
   "outputs": [
    {
     "data": {
      "text/plain": [
       "(10000, 5)"
      ]
     },
     "execution_count": 43,
     "metadata": {},
     "output_type": "execute_result"
    }
   ],
   "source": [
    "samples.shape"
   ]
  },
  {
   "cell_type": "code",
   "execution_count": 10,
   "id": "070f9107",
   "metadata": {},
   "outputs": [
    {
     "data": {
      "text/html": [
       "<div>\n",
       "<style scoped>\n",
       "    .dataframe tbody tr th:only-of-type {\n",
       "        vertical-align: middle;\n",
       "    }\n",
       "\n",
       "    .dataframe tbody tr th {\n",
       "        vertical-align: top;\n",
       "    }\n",
       "\n",
       "    .dataframe thead th {\n",
       "        text-align: right;\n",
       "    }\n",
       "</style>\n",
       "<table border=\"1\" class=\"dataframe\">\n",
       "  <thead>\n",
       "    <tr style=\"text-align: right;\">\n",
       "      <th></th>\n",
       "      <th>Unnamed: 0</th>\n",
       "      <th>img_id</th>\n",
       "      <th>caption</th>\n",
       "      <th>s3_path</th>\n",
       "      <th>split</th>\n",
       "    </tr>\n",
       "  </thead>\n",
       "  <tbody>\n",
       "    <tr>\n",
       "      <th>0</th>\n",
       "      <td>2076195</td>\n",
       "      <td>1643078</td>\n",
       "      <td>crema oxigenada 30v har 60 ml coloracion nan</td>\n",
       "      <td>/home/ec2-user/SageMaker/dataset/dataset/NZTCK...</td>\n",
       "      <td>train</td>\n",
       "    </tr>\n",
       "    <tr>\n",
       "      <th>1</th>\n",
       "      <td>1131612</td>\n",
       "      <td>698495</td>\n",
       "      <td>la baitagalleano, composta di ribes e peperonc...</td>\n",
       "      <td>/home/ec2-user/SageMaker/dataset/dataset/YNGJL...</td>\n",
       "      <td>train</td>\n",
       "    </tr>\n",
       "    <tr>\n",
       "      <th>2</th>\n",
       "      <td>1584914</td>\n",
       "      <td>1151797</td>\n",
       "      <td>pollo asado brie bocadillos pan gran reserva, ...</td>\n",
       "      <td>/home/ec2-user/SageMaker/dataset/dataset/BFDKZ...</td>\n",
       "      <td>train</td>\n",
       "    </tr>\n",
       "    <tr>\n",
       "      <th>3</th>\n",
       "      <td>1412771</td>\n",
       "      <td>979654</td>\n",
       "      <td>jus de fraise jus nan</td>\n",
       "      <td>/home/ec2-user/SageMaker/dataset/dataset/JVHVQ...</td>\n",
       "      <td>train</td>\n",
       "    </tr>\n",
       "    <tr>\n",
       "      <th>4</th>\n",
       "      <td>1831135</td>\n",
       "      <td>1398018</td>\n",
       "      <td>auricular bola rosa auriculares nan</td>\n",
       "      <td>/home/ec2-user/SageMaker/dataset/dataset/NZTCK...</td>\n",
       "      <td>train</td>\n",
       "    </tr>\n",
       "  </tbody>\n",
       "</table>\n",
       "</div>"
      ],
      "text/plain": [
       "   Unnamed: 0   img_id                                            caption  \\\n",
       "0     2076195  1643078       crema oxigenada 30v har 60 ml coloracion nan   \n",
       "1     1131612   698495  la baitagalleano, composta di ribes e peperonc...   \n",
       "2     1584914  1151797  pollo asado brie bocadillos pan gran reserva, ...   \n",
       "3     1412771   979654                              jus de fraise jus nan   \n",
       "4     1831135  1398018                auricular bola rosa auriculares nan   \n",
       "\n",
       "                                             s3_path  split  \n",
       "0  /home/ec2-user/SageMaker/dataset/dataset/NZTCK...  train  \n",
       "1  /home/ec2-user/SageMaker/dataset/dataset/YNGJL...  train  \n",
       "2  /home/ec2-user/SageMaker/dataset/dataset/BFDKZ...  train  \n",
       "3  /home/ec2-user/SageMaker/dataset/dataset/JVHVQ...  train  \n",
       "4  /home/ec2-user/SageMaker/dataset/dataset/NZTCK...  train  "
      ]
     },
     "execution_count": 10,
     "metadata": {},
     "output_type": "execute_result"
    }
   ],
   "source": [
    "samples.head()"
   ]
  },
  {
   "cell_type": "markdown",
   "id": "9728b7a5",
   "metadata": {},
   "source": [
    "## 1) Create sentences"
   ]
  },
  {
   "cell_type": "code",
   "execution_count": 10,
   "id": "b44f7f5a",
   "metadata": {},
   "outputs": [],
   "source": [
    "samples[\"sentence\"] = \\\n",
    "    np.where(samples[\"product_name\"], samples[\"product_name\"].astype(str), \"\") + \" \" + \\\n",
    "    np.where(samples[\"collection_section\"], samples[\"collection_section\"].astype(str), \"\") + \" \" + \\\n",
    "    np.where(samples[\"product_description\"], samples[\"product_description\"].astype(str), \"\")\n",
    "\n",
    "samples[\"sentence\"] = samples[\"sentence\"].str.lower()\n",
    "samples.rename(columns={'Unnamed: 0': 'idx'}, inplace=True)"
   ]
  },
  {
   "cell_type": "markdown",
   "id": "fbe3c3a7",
   "metadata": {},
   "source": [
    "### 1.1) Fit tokenizer"
   ]
  },
  {
   "cell_type": "code",
   "execution_count": 53,
   "id": "97f85253",
   "metadata": {},
   "outputs": [],
   "source": [
    "os.chdir(PATH_FOODI)\n",
    "from retrieval.data.tokenizer import Tokenizer"
   ]
  },
  {
   "cell_type": "code",
   "execution_count": 54,
   "id": "1d1c9191",
   "metadata": {},
   "outputs": [
    {
     "name": "stderr",
     "output_type": "stream",
     "text": [
      "[nltk_data] Downloading package punkt to /home/ec2-user/nltk_data...\n",
      "[nltk_data]   Package punkt is already up-to-date!\n"
     ]
    }
   ],
   "source": [
    "# 1) Get all sentences \n",
    "sentences = samples[\"sentence\"].values\n",
    "\n",
    "# 2) Fit Tokenizer with senteces (CAREFUL, takes 6-7 min)\n",
    "tokenizer = Tokenizer(vocab_path=None, download_tokenizer=True)"
   ]
  },
  {
   "cell_type": "code",
   "execution_count": 55,
   "id": "70905a42",
   "metadata": {},
   "outputs": [
    {
     "name": "stderr",
     "output_type": "stream",
     "text": [
      "100%|██████████| 2887444/2887444 [06:46<00:00, 7094.59it/s]\n"
     ]
    }
   ],
   "source": [
    "# Fit tokenize\n",
    "vocab = tokenizer.fit(sentences)"
   ]
  },
  {
   "cell_type": "code",
   "execution_count": 74,
   "id": "1d611620",
   "metadata": {},
   "outputs": [
    {
     "data": {
      "text/plain": [
       "245967"
      ]
     },
     "execution_count": 74,
     "metadata": {},
     "output_type": "execute_result"
    }
   ],
   "source": [
    "len(vocab.word2idx)"
   ]
  },
  {
   "cell_type": "code",
   "execution_count": 57,
   "id": "e4c72bec",
   "metadata": {},
   "outputs": [
    {
     "name": "stdout",
     "output_type": "stream",
     "text": [
      "CPU times: user 334 ms, sys: 0 ns, total: 334 ms\n",
      "Wall time: 341 ms\n"
     ]
    }
   ],
   "source": [
    "%%time\n",
    "# 3) Saving vocabulary\n",
    "tokenizer.save(conf['LOCAL_VOCAB'])"
   ]
  },
  {
   "cell_type": "code",
   "execution_count": 75,
   "id": "eeeed6c5",
   "metadata": {},
   "outputs": [
    {
     "data": {
      "text/plain": [
       "245967"
      ]
     },
     "execution_count": 75,
     "metadata": {},
     "output_type": "execute_result"
    }
   ],
   "source": [
    "# 4) Load if already saved\n",
    "tokenizer = tokenizer.load(conf['LOCAL_VOCAB'])\n",
    "len(tokenizer.vocab)"
   ]
  },
  {
   "cell_type": "code",
   "execution_count": 59,
   "id": "2db5c1cf",
   "metadata": {},
   "outputs": [
    {
     "name": "stderr",
     "output_type": "stream",
     "text": [
      "[nltk_data] Downloading package punkt to /home/ec2-user/nltk_data...\n",
      "[nltk_data]   Package punkt is already up-to-date!\n"
     ]
    }
   ],
   "source": [
    "# LOAD equivalent\n",
    "tokenizer_2 = Tokenizer(vocab_path=conf[\"pth_vocab\"], download_tokenizer=True)"
   ]
  },
  {
   "cell_type": "code",
   "execution_count": 60,
   "id": "8f811918",
   "metadata": {},
   "outputs": [
    {
     "data": {
      "text/plain": [
       "245967"
      ]
     },
     "execution_count": 60,
     "metadata": {},
     "output_type": "execute_result"
    }
   ],
   "source": [
    "len(tokenizer_2.vocab)"
   ]
  },
  {
   "cell_type": "markdown",
   "id": "cd8724c1",
   "metadata": {},
   "source": [
    "### 1.2) Creating dataset parquet"
   ]
  },
  {
   "cell_type": "code",
   "execution_count": 36,
   "id": "dbf96b07",
   "metadata": {},
   "outputs": [
    {
     "ename": "KeyError",
     "evalue": "\"['sentence', 'subset'] not in index\"",
     "output_type": "error",
     "traceback": [
      "\u001B[0;31m---------------------------------------------------------------------------\u001B[0m",
      "\u001B[0;31mKeyError\u001B[0m                                  Traceback (most recent call last)",
      "\u001B[0;32m<ipython-input-36-27e2029a548e>\u001B[0m in \u001B[0;36m<module>\u001B[0;34m\u001B[0m\n\u001B[1;32m      1\u001B[0m \u001B[0;31m# Keep only necessary columns for modelling\u001B[0m\u001B[0;34m\u001B[0m\u001B[0;34m\u001B[0m\u001B[0;34m\u001B[0m\u001B[0m\n\u001B[0;32m----> 2\u001B[0;31m \u001B[0mfinal_samples\u001B[0m \u001B[0;34m=\u001B[0m \u001B[0msamples\u001B[0m\u001B[0;34m[\u001B[0m\u001B[0;34m[\u001B[0m\u001B[0;34m\"sentence\"\u001B[0m\u001B[0;34m,\u001B[0m \u001B[0;34m\"s3_path\"\u001B[0m\u001B[0;34m,\u001B[0m \u001B[0;34m\"subset\"\u001B[0m\u001B[0;34m]\u001B[0m\u001B[0;34m]\u001B[0m\u001B[0;34m.\u001B[0m\u001B[0mreset_index\u001B[0m\u001B[0;34m(\u001B[0m\u001B[0;34m)\u001B[0m\u001B[0;34m.\u001B[0m\u001B[0mcopy\u001B[0m\u001B[0;34m(\u001B[0m\u001B[0;34m)\u001B[0m\u001B[0;34m\u001B[0m\u001B[0;34m\u001B[0m\u001B[0m\n\u001B[0m\u001B[1;32m      3\u001B[0m \u001B[0mfinal_samples\u001B[0m\u001B[0;34m.\u001B[0m\u001B[0mrename\u001B[0m\u001B[0;34m(\u001B[0m\u001B[0mcolumns\u001B[0m\u001B[0;34m=\u001B[0m\u001B[0;34m{\u001B[0m\u001B[0;34m\"sentence\"\u001B[0m\u001B[0;34m:\u001B[0m \u001B[0;34m\"caption\"\u001B[0m\u001B[0;34m}\u001B[0m\u001B[0;34m,\u001B[0m \u001B[0minplace\u001B[0m\u001B[0;34m=\u001B[0m\u001B[0;32mTrue\u001B[0m\u001B[0;34m)\u001B[0m\u001B[0;34m\u001B[0m\u001B[0;34m\u001B[0m\u001B[0m\n\u001B[1;32m      4\u001B[0m \u001B[0mfinal_samples\u001B[0m\u001B[0;34m.\u001B[0m\u001B[0mrename\u001B[0m\u001B[0;34m(\u001B[0m\u001B[0mcolumns\u001B[0m\u001B[0;34m=\u001B[0m\u001B[0;34m{\u001B[0m\u001B[0;34m\"subset\"\u001B[0m\u001B[0;34m:\u001B[0m \u001B[0;34m\"split\"\u001B[0m\u001B[0;34m}\u001B[0m\u001B[0;34m,\u001B[0m \u001B[0minplace\u001B[0m\u001B[0;34m=\u001B[0m\u001B[0;32mTrue\u001B[0m\u001B[0;34m)\u001B[0m\u001B[0;34m\u001B[0m\u001B[0;34m\u001B[0m\u001B[0m\n\u001B[1;32m      5\u001B[0m \u001B[0mfinal_samples\u001B[0m\u001B[0;34m.\u001B[0m\u001B[0mrename\u001B[0m\u001B[0;34m(\u001B[0m\u001B[0mcolumns\u001B[0m\u001B[0;34m=\u001B[0m\u001B[0;34m{\u001B[0m\u001B[0;34m\"index\"\u001B[0m\u001B[0;34m:\u001B[0m \u001B[0;34m\"img_id\"\u001B[0m\u001B[0;34m}\u001B[0m\u001B[0;34m,\u001B[0m \u001B[0minplace\u001B[0m\u001B[0;34m=\u001B[0m\u001B[0;32mTrue\u001B[0m\u001B[0;34m)\u001B[0m\u001B[0;34m\u001B[0m\u001B[0;34m\u001B[0m\u001B[0m\n",
      "\u001B[0;32m~/anaconda3/envs/python3/lib/python3.6/site-packages/pandas/core/frame.py\u001B[0m in \u001B[0;36m__getitem__\u001B[0;34m(self, key)\u001B[0m\n\u001B[1;32m   2910\u001B[0m             \u001B[0;32mif\u001B[0m \u001B[0mis_iterator\u001B[0m\u001B[0;34m(\u001B[0m\u001B[0mkey\u001B[0m\u001B[0;34m)\u001B[0m\u001B[0;34m:\u001B[0m\u001B[0;34m\u001B[0m\u001B[0;34m\u001B[0m\u001B[0m\n\u001B[1;32m   2911\u001B[0m                 \u001B[0mkey\u001B[0m \u001B[0;34m=\u001B[0m \u001B[0mlist\u001B[0m\u001B[0;34m(\u001B[0m\u001B[0mkey\u001B[0m\u001B[0;34m)\u001B[0m\u001B[0;34m\u001B[0m\u001B[0;34m\u001B[0m\u001B[0m\n\u001B[0;32m-> 2912\u001B[0;31m             \u001B[0mindexer\u001B[0m \u001B[0;34m=\u001B[0m \u001B[0mself\u001B[0m\u001B[0;34m.\u001B[0m\u001B[0mloc\u001B[0m\u001B[0;34m.\u001B[0m\u001B[0m_get_listlike_indexer\u001B[0m\u001B[0;34m(\u001B[0m\u001B[0mkey\u001B[0m\u001B[0;34m,\u001B[0m \u001B[0maxis\u001B[0m\u001B[0;34m=\u001B[0m\u001B[0;36m1\u001B[0m\u001B[0;34m,\u001B[0m \u001B[0mraise_missing\u001B[0m\u001B[0;34m=\u001B[0m\u001B[0;32mTrue\u001B[0m\u001B[0;34m)\u001B[0m\u001B[0;34m[\u001B[0m\u001B[0;36m1\u001B[0m\u001B[0;34m]\u001B[0m\u001B[0;34m\u001B[0m\u001B[0;34m\u001B[0m\u001B[0m\n\u001B[0m\u001B[1;32m   2913\u001B[0m \u001B[0;34m\u001B[0m\u001B[0m\n\u001B[1;32m   2914\u001B[0m         \u001B[0;31m# take() does not accept boolean indexers\u001B[0m\u001B[0;34m\u001B[0m\u001B[0;34m\u001B[0m\u001B[0;34m\u001B[0m\u001B[0m\n",
      "\u001B[0;32m~/anaconda3/envs/python3/lib/python3.6/site-packages/pandas/core/indexing.py\u001B[0m in \u001B[0;36m_get_listlike_indexer\u001B[0;34m(self, key, axis, raise_missing)\u001B[0m\n\u001B[1;32m   1252\u001B[0m             \u001B[0mkeyarr\u001B[0m\u001B[0;34m,\u001B[0m \u001B[0mindexer\u001B[0m\u001B[0;34m,\u001B[0m \u001B[0mnew_indexer\u001B[0m \u001B[0;34m=\u001B[0m \u001B[0max\u001B[0m\u001B[0;34m.\u001B[0m\u001B[0m_reindex_non_unique\u001B[0m\u001B[0;34m(\u001B[0m\u001B[0mkeyarr\u001B[0m\u001B[0;34m)\u001B[0m\u001B[0;34m\u001B[0m\u001B[0;34m\u001B[0m\u001B[0m\n\u001B[1;32m   1253\u001B[0m \u001B[0;34m\u001B[0m\u001B[0m\n\u001B[0;32m-> 1254\u001B[0;31m         \u001B[0mself\u001B[0m\u001B[0;34m.\u001B[0m\u001B[0m_validate_read_indexer\u001B[0m\u001B[0;34m(\u001B[0m\u001B[0mkeyarr\u001B[0m\u001B[0;34m,\u001B[0m \u001B[0mindexer\u001B[0m\u001B[0;34m,\u001B[0m \u001B[0maxis\u001B[0m\u001B[0;34m,\u001B[0m \u001B[0mraise_missing\u001B[0m\u001B[0;34m=\u001B[0m\u001B[0mraise_missing\u001B[0m\u001B[0;34m)\u001B[0m\u001B[0;34m\u001B[0m\u001B[0;34m\u001B[0m\u001B[0m\n\u001B[0m\u001B[1;32m   1255\u001B[0m         \u001B[0;32mreturn\u001B[0m \u001B[0mkeyarr\u001B[0m\u001B[0;34m,\u001B[0m \u001B[0mindexer\u001B[0m\u001B[0;34m\u001B[0m\u001B[0;34m\u001B[0m\u001B[0m\n\u001B[1;32m   1256\u001B[0m \u001B[0;34m\u001B[0m\u001B[0m\n",
      "\u001B[0;32m~/anaconda3/envs/python3/lib/python3.6/site-packages/pandas/core/indexing.py\u001B[0m in \u001B[0;36m_validate_read_indexer\u001B[0;34m(self, key, indexer, axis, raise_missing)\u001B[0m\n\u001B[1;32m   1302\u001B[0m             \u001B[0;32mif\u001B[0m \u001B[0mraise_missing\u001B[0m\u001B[0;34m:\u001B[0m\u001B[0;34m\u001B[0m\u001B[0;34m\u001B[0m\u001B[0m\n\u001B[1;32m   1303\u001B[0m                 \u001B[0mnot_found\u001B[0m \u001B[0;34m=\u001B[0m \u001B[0mlist\u001B[0m\u001B[0;34m(\u001B[0m\u001B[0mset\u001B[0m\u001B[0;34m(\u001B[0m\u001B[0mkey\u001B[0m\u001B[0;34m)\u001B[0m \u001B[0;34m-\u001B[0m \u001B[0mset\u001B[0m\u001B[0;34m(\u001B[0m\u001B[0max\u001B[0m\u001B[0;34m)\u001B[0m\u001B[0;34m)\u001B[0m\u001B[0;34m\u001B[0m\u001B[0;34m\u001B[0m\u001B[0m\n\u001B[0;32m-> 1304\u001B[0;31m                 \u001B[0;32mraise\u001B[0m \u001B[0mKeyError\u001B[0m\u001B[0;34m(\u001B[0m\u001B[0;34mf\"{not_found} not in index\"\u001B[0m\u001B[0;34m)\u001B[0m\u001B[0;34m\u001B[0m\u001B[0;34m\u001B[0m\u001B[0m\n\u001B[0m\u001B[1;32m   1305\u001B[0m \u001B[0;34m\u001B[0m\u001B[0m\n\u001B[1;32m   1306\u001B[0m             \u001B[0;31m# we skip the warning on Categorical\u001B[0m\u001B[0;34m\u001B[0m\u001B[0;34m\u001B[0m\u001B[0;34m\u001B[0m\u001B[0m\n",
      "\u001B[0;31mKeyError\u001B[0m: \"['sentence', 'subset'] not in index\""
     ]
    }
   ],
   "source": [
    "# Keep only necessary columns for modelling\n",
    "final_samples = samples[[\"sentence\", \"s3_path\", \"subset\"]].reset_index().copy()\n",
    "final_samples.rename(columns={\"sentence\": \"caption\"}, inplace=True)\n",
    "final_samples.rename(columns={\"subset\": \"split\"}, inplace=True)\n",
    "final_samples.rename(columns={\"index\": \"img_id\"}, inplace=True)"
   ]
  },
  {
   "cell_type": "code",
   "execution_count": 41,
   "id": "baf7cc66",
   "metadata": {},
   "outputs": [],
   "source": [
    "# Remove previous version if it exists\n",
    "if os.path.exists(conf[\"LOCAL_DATASET\"]):\n",
    "    shutil.rmtree(conf[\"LOCAL_DATASET\"])"
   ]
  },
  {
   "cell_type": "code",
   "execution_count": 44,
   "id": "8db71823",
   "metadata": {
    "pycharm": {
     "name": "#%%\n"
    }
   },
   "outputs": [],
   "source": [
    "# Save as partitioned parquet\n",
    "samples.to_parquet(\n",
    "    path=conf[\"LOCAL_DATASET\"],\n",
    "    engine=\"pyarrow\",\n",
    "    index=False,\n",
    "    partition_cols=[\"split\"],\n",
    ")"
   ]
  }
 ],
 "metadata": {
  "kernelspec": {
   "display_name": "conda_python3",
   "language": "python",
   "name": "conda_python3"
  },
  "language_info": {
   "codemirror_mode": {
    "name": "ipython",
    "version": 3
   },
   "file_extension": ".py",
   "mimetype": "text/x-python",
   "name": "python",
   "nbconvert_exporter": "python",
   "pygments_lexer": "ipython3",
   "version": "3.6.13"
  }
 },
 "nbformat": 4,
 "nbformat_minor": 5
}